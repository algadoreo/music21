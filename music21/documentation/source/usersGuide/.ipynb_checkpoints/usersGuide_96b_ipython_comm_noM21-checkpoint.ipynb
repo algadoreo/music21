{
 "metadata": {
  "name": "",
  "signature": "sha256:6e29d4d84e03064993c3cb99e9d8a92e68b0045b03bf4a4ab62e591ad9c2ab60"
 },
 "nbformat": 3,
 "nbformat_minor": 0,
 "worksheets": []
}