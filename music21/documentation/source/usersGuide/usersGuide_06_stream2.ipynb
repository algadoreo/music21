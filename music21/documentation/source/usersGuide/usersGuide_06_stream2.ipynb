{
 "metadata": {
  "name": "",
  "signature": "sha256:f2706224a956d5eaaf855578f678523124304ddb3e148ab78c9d30023709886d"
 },
 "nbformat": 3,
 "nbformat_minor": 0,
 "worksheets": [
  {
   "cells": [
    {
     "cell_type": "code",
     "collapsed": false,
     "input": [
      "# ignore this\n",
      "%load_ext music21.ipython21.ipExtension"
     ],
     "language": "python",
     "metadata": {},
     "outputs": [],
     "prompt_number": 2
    },
    {
     "cell_type": "heading",
     "level": 1,
     "metadata": {},
     "source": [
      "User's Guide, Chapter 6: Streams (II): Hierarchies, Recursion, and Flattening"
     ]
    },
    {
     "cell_type": "markdown",
     "metadata": {},
     "source": [
      "We ended Chapter 4 (:ref:`usersGuide_04_stream1`) with a :class:`~music21.stream.Stream` that was\n",
      "contained within another `Stream` object.  Let's recreate that class:"
     ]
    },
    {
     "cell_type": "code",
     "collapsed": false,
     "input": [
      "from music21 import *\n",
      "\n",
      "note1 = note.Note(\"C4\")\n",
      "note1.duration.type = 'half'\n",
      "note2 = note.Note(\"F#4\")\n",
      "note3 = note.Note(\"B-2\")\n",
      "\n",
      "stream1 = stream.Stream()\n",
      "stream1.id = 'some notes'\n",
      "stream1.append(note1)\n",
      "stream1.append(note2)\n",
      "stream1.append(note3)\n",
      "\n",
      "biggerStream = stream.Stream()\n",
      "note2 = note.Note(\"D#5\")\n",
      "biggerStream.insert(0, note2)\n",
      "biggerStream.append(stream1)"
     ],
     "language": "python",
     "metadata": {},
     "outputs": [],
     "prompt_number": 7
    },
    {
     "cell_type": "markdown",
     "metadata": {},
     "source": [
      "The only way to find out what was in the contained\n",
      "Stream that we demonstrated so far was the :meth:`~music21.base.Music21Object.show` method\n",
      "using the `('text')` argument."
     ]
    },
    {
     "cell_type": "code",
     "collapsed": false,
     "input": [
      "biggerStream.show('text')"
     ],
     "language": "python",
     "metadata": {},
     "outputs": [
      {
       "output_type": "stream",
       "stream": "stdout",
       "text": [
        "{0.0} <music21.note.Note D#>\n",
        "{1.0} <music21.stream.Stream some notes>\n",
        "    {0.0} <music21.note.Note C>\n",
        "    {2.0} <music21.note.Note F#>\n",
        "    {3.0} <music21.note.Note B->\n"
       ]
      }
     ],
     "prompt_number": 8
    },
    {
     "cell_type": "markdown",
     "metadata": {},
     "source": [
      "As Chapter 4 noted, there's "
     ]
    },
    {
     "cell_type": "heading",
     "level": 2,
     "metadata": {},
     "source": [
      "Recursion in Streams"
     ]
    },
    {
     "cell_type": "heading",
     "level": 2,
     "metadata": {},
     "source": [
      "Flattening a Stream"
     ]
    },
    {
     "cell_type": "code",
     "collapsed": false,
     "input": [],
     "language": "python",
     "metadata": {},
     "outputs": []
    }
   ],
   "metadata": {}
  }
 ]
}