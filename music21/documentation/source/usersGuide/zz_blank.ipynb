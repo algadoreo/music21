{
 "metadata": {
  "name": "",
  "signature": "sha256:9d1b09ebb2f2612de89621ac9e5940ba18a04cfb280e43bf20d88f8dc0481eb4"
 },
 "nbformat": 3,
 "nbformat_minor": 0,
 "worksheets": [
  {
   "cells": [
    {
     "cell_type": "code",
     "collapsed": false,
     "input": [],
     "language": "python",
     "metadata": {},
     "outputs": []
    }
   ],
   "metadata": {}
  }
 ]
}